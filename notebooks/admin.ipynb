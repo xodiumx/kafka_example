{
 "cells": [
  {
   "cell_type": "code",
   "execution_count": 5,
   "metadata": {},
   "outputs": [],
   "source": [
    "# Import module\n",
    "import sys\n",
    "import os\n",
    "\n",
    "module_path = os.path.abspath(os.path.join(\"..\")) + \"/src\"\n",
    "if module_path not in sys.path:\n",
    "    sys.path.append(module_path)"
   ]
  },
  {
   "cell_type": "code",
   "execution_count": 6,
   "metadata": {},
   "outputs": [],
   "source": [
    "from confluent_kafka.admin import ConfigResource\n",
    "\n",
    "from kafka_service_example.services.admin import KafkaAdminService\n",
    "\n",
    "from settings import settings\n",
    "\n",
    "LOCAL_SERVER_ID: int = 0"
   ]
  },
  {
   "cell_type": "markdown",
   "metadata": {},
   "source": [
    "# Create topics"
   ]
  },
  {
   "cell_type": "code",
   "execution_count": null,
   "metadata": {},
   "outputs": [],
   "source": [
    "admin = KafkaAdminService(\n",
    "    kafka_config={\"bootstrap.servers\": settings.KAFKA_HOSTS[LOCAL_SERVER_ID]},\n",
    ")\n",
    "\n",
    "admin.create_new_topics(\n",
    "    topics_for_create=[\"test_topic_1\", \"test_topic_2\"],\n",
    "    partitions_count=3,\n",
    "    repliacation_factor=1,\n",
    ")"
   ]
  },
  {
   "cell_type": "markdown",
   "metadata": {},
   "source": [
    "# Get topics info"
   ]
  },
  {
   "cell_type": "code",
   "execution_count": null,
   "metadata": {},
   "outputs": [],
   "source": [
    "admin.get_topics()"
   ]
  },
  {
   "cell_type": "markdown",
   "metadata": {},
   "source": [
    "# Get configs info"
   ]
  },
  {
   "cell_type": "code",
   "execution_count": null,
   "metadata": {},
   "outputs": [],
   "source": [
    "admin.get_configs_info(resource_type=ConfigResource.Type.TOPIC, resource_name=\"test_topic_1\")"
   ]
  },
  {
   "cell_type": "markdown",
   "metadata": {},
   "source": [
    "# Delete topics"
   ]
  },
  {
   "cell_type": "code",
   "execution_count": null,
   "metadata": {},
   "outputs": [],
   "source": [
    "admin.delete_old_topics(topics_for_delete=[\"test_topic_1\", \"test_topic_2\"])\n",
    "admin.get_topics()"
   ]
  }
 ],
 "metadata": {
  "kernelspec": {
   "display_name": "kafka_example",
   "language": "python",
   "name": "python3"
  },
  "language_info": {
   "codemirror_mode": {
    "name": "ipython",
    "version": 3
   },
   "file_extension": ".py",
   "mimetype": "text/x-python",
   "name": "python",
   "nbconvert_exporter": "python",
   "pygments_lexer": "ipython3",
   "version": "3.12.3"
  }
 },
 "nbformat": 4,
 "nbformat_minor": 2
}
